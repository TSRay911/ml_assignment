{
 "cells": [
  {
   "cell_type": "code",
   "execution_count": 1,
   "id": "92349e96",
   "metadata": {},
   "outputs": [],
   "source": [
    "# import torch\n",
    "# print(torch.cuda.is_available())\n",
    "# print(torch.cuda.get_device_name(0) if torch.cuda.is_available() else \"No GPU detected\")"
   ]
  },
  {
   "cell_type": "code",
   "execution_count": null,
   "id": "78428717",
   "metadata": {},
   "outputs": [],
   "source": [
    "from environment2 import LifeStyleCoachEnv\n",
    "from stable_baselines3 import PPO\n",
    "from stable_baselines3.common.vec_env import DummyVecEnv, VecNormalize\n",
    "from stable_baselines3.common.env_checker import check_env\n",
    "from stable_baselines3.common.evaluation import evaluate_policy\n",
    "from stable_baselines3.common.monitor import Monitor\n",
    "import torch\n",
    "\n",
    "device = \"cuda\" if torch.cuda.is_available() else \"cpu\"\n",
    "print(f\"Using device: {device}\")\n",
    "\n",
    "def make_env():\n",
    "    def _init():\n",
    "        env = LifeStyleCoachEnv()\n",
    "        env = Monitor(env)\n",
    "        check_env(env)\n",
    "        return env\n",
    "    return _init\n",
    "\n",
    "train_env = DummyVecEnv([make_env()])\n",
    "train_env = VecNormalize(\n",
    "    train_env,\n",
    "    norm_obs=False,      \n",
    "    norm_reward=False,    \n",
    "    clip_reward=10.0     \n",
    ")\n",
    "\n",
    "lr = 0.003\n",
    "ent_coefs = [0.0, 0.01, 0.05]\n",
    "results = []\n",
    "\n",
    "for ent_coef in ent_coefs:\n",
    "    print(f\"\\nTraining with ent_coef={ent_coef}\")\n",
    "\n",
    "    model = PPO(\n",
    "        \"MultiInputPolicy\",\n",
    "        train_env,\n",
    "        learning_rate=lr,\n",
    "        n_steps=2048,\n",
    "        batch_size=512,\n",
    "        n_epochs=10,\n",
    "        gamma=0.99,\n",
    "        gae_lambda=0.95,\n",
    "        clip_range=0.2,\n",
    "        ent_coef=ent_coef,\n",
    "        vf_coef=0.5,\n",
    "        max_grad_norm=0.5,\n",
    "        verbose=1,\n",
    "        device=device,\n",
    "        policy_kwargs=dict(net_arch=[128, 128])\n",
    "    )\n",
    "\n",
    "    model.learn(total_timesteps=500000)\n",
    "\n",
    "    mean_reward, std_reward = evaluate_policy(model, train_env, n_eval_episodes=20)\n",
    "    results.append((ent_coef, mean_reward, std_reward))\n",
    "\n",
    "print(\"\\n=== Final Results ===\")\n",
    "for ent_coef, mean_reward, std_reward in results:\n",
    "    print(f\"Entropy: {ent_coef} | Mean reward: {mean_reward:.2f} ± {std_reward:.2f}\")\n"
   ]
  },
  {
   "cell_type": "code",
   "execution_count": null,
   "id": "0e50688e",
   "metadata": {},
   "outputs": [],
   "source": []
  }
 ],
 "metadata": {
  "kernelspec": {
   "display_name": ".venv (3.10.15)",
   "language": "python",
   "name": "python3"
  },
  "language_info": {
   "codemirror_mode": {
    "name": "ipython",
    "version": 3
   },
   "file_extension": ".py",
   "mimetype": "text/x-python",
   "name": "python",
   "nbconvert_exporter": "python",
   "pygments_lexer": "ipython3",
   "version": "3.10.15"
  }
 },
 "nbformat": 4,
 "nbformat_minor": 5
}
